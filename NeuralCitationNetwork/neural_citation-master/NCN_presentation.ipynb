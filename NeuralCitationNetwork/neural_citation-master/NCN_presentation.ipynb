{
 "cells": [
  {
   "cell_type": "markdown",
   "metadata": {},
   "source": [
    "# Neural citation network for local citation recommendation"
   ]
  },
  {
   "cell_type": "code",
   "execution_count": 1,
   "metadata": {},
   "outputs": [],
   "source": [
    "import torch\n",
    "from torchtext.data import BucketIterator\n",
    "from ncn.evaluation import Evaluator\n",
    "from ncn.data import get_datasets\n",
    "import matplotlib.pyplot as plt\n",
    "import matplotlib.ticker as ticker\n",
    "import numpy as np\n",
    "%matplotlib inline"
   ]
  },
  {
   "cell_type": "code",
   "execution_count": 2,
   "metadata": {},
   "outputs": [],
   "source": [
    "path_to_weights = \"/home/timo/Downloads/ncn/model/NCN_9_4_4_128_filters.pt\"\n",
    "path_to_data = \"/home/timo/DataSets/KD_arxiv_CS/arxiv_data.csv\""
   ]
  },
  {
   "cell_type": "code",
   "execution_count": 3,
   "metadata": {},
   "outputs": [
    {
     "output_type": "stream",
     "name": "stderr",
     "text": [
      "INFO:ncn.data:Getting fields...\n",
      "INFO:ncn.data:Loading dataset...\n"
     ]
    },
    {
     "output_type": "error",
     "ename": "FileNotFoundError",
     "evalue": "[Errno 2] No such file or directory: '/home/timo/DataSets/KD_arxiv_CS/arxiv_data.csv'",
     "traceback": [
      "\u001b[1;31m---------------------------------------------------------------------------\u001b[0m",
      "\u001b[1;31mFileNotFoundError\u001b[0m                         Traceback (most recent call last)",
      "\u001b[1;32m<ipython-input-3-add3ede5b769>\u001b[0m in \u001b[0;36m<module>\u001b[1;34m\u001b[0m\n\u001b[1;32m----> 1\u001b[1;33m \u001b[0mdata\u001b[0m \u001b[1;33m=\u001b[0m \u001b[0mdata\u001b[0m \u001b[1;33m=\u001b[0m \u001b[0mget_datasets\u001b[0m\u001b[1;33m(\u001b[0m\u001b[0mpath_to_data\u001b[0m\u001b[1;33m,\u001b[0m \u001b[1;36m20000\u001b[0m\u001b[1;33m,\u001b[0m \u001b[1;36m20000\u001b[0m\u001b[1;33m,\u001b[0m \u001b[1;36m20000\u001b[0m\u001b[1;33m)\u001b[0m\u001b[1;33m\u001b[0m\u001b[1;33m\u001b[0m\u001b[0m\n\u001b[0m",
      "\u001b[1;32md:\\Thi.DN\\PhD\\ThayBay\\GCN\\ebookML_src-master\\src\\neural_citation-master\\ncn\\data.py\u001b[0m in \u001b[0;36mget_datasets\u001b[1;34m(path_to_data, len_context_vocab, len_title_vocab, len_aut_vocab)\u001b[0m\n\u001b[0;32m    370\u001b[0m     \u001b[1;31m# has to be single dataset in order to build proper vocabularies\u001b[0m\u001b[1;33m\u001b[0m\u001b[1;33m\u001b[0m\u001b[1;33m\u001b[0m\u001b[0m\n\u001b[0;32m    371\u001b[0m     \u001b[0mlogger\u001b[0m\u001b[1;33m.\u001b[0m\u001b[0minfo\u001b[0m\u001b[1;33m(\u001b[0m\u001b[1;34m\"Loading dataset...\"\u001b[0m\u001b[1;33m)\u001b[0m\u001b[1;33m\u001b[0m\u001b[1;33m\u001b[0m\u001b[0m\n\u001b[1;32m--> 372\u001b[1;33m     dataset = TabularDataset(str(path_to_data), \"CSV\", \n\u001b[0m\u001b[0;32m    373\u001b[0m                        \u001b[1;33m[\u001b[0m\u001b[1;33m(\u001b[0m\u001b[1;34m\"context\"\u001b[0m\u001b[1;33m,\u001b[0m \u001b[0mCNTXT\u001b[0m\u001b[1;33m)\u001b[0m\u001b[1;33m,\u001b[0m \u001b[1;33m(\u001b[0m\u001b[1;34m\"authors_citing\"\u001b[0m\u001b[1;33m,\u001b[0m \u001b[0mAUT\u001b[0m\u001b[1;33m)\u001b[0m\u001b[1;33m,\u001b[0m \u001b[1;33m(\u001b[0m\u001b[1;34m\"title_cited\"\u001b[0m\u001b[1;33m,\u001b[0m \u001b[0mTTL\u001b[0m\u001b[1;33m)\u001b[0m\u001b[1;33m,\u001b[0m \u001b[1;33m(\u001b[0m\u001b[1;34m\"authors_cited\"\u001b[0m\u001b[1;33m,\u001b[0m \u001b[0mAUT\u001b[0m\u001b[1;33m)\u001b[0m\u001b[1;33m]\u001b[0m\u001b[1;33m,\u001b[0m\u001b[1;33m\u001b[0m\u001b[1;33m\u001b[0m\u001b[0m\n\u001b[0;32m    374\u001b[0m                        skip_header=True)\n",
      "\u001b[1;32m~\\Anaconda3\\lib\\site-packages\\torchtext\\data\\dataset.py\u001b[0m in \u001b[0;36m__init__\u001b[1;34m(self, path, format, fields, skip_header, csv_reader_params, **kwargs)\u001b[0m\n\u001b[0;32m    249\u001b[0m             'tsv': Example.fromCSV, 'csv': Example.fromCSV}[format]\n\u001b[0;32m    250\u001b[0m \u001b[1;33m\u001b[0m\u001b[0m\n\u001b[1;32m--> 251\u001b[1;33m         \u001b[1;32mwith\u001b[0m \u001b[0mio\u001b[0m\u001b[1;33m.\u001b[0m\u001b[0mopen\u001b[0m\u001b[1;33m(\u001b[0m\u001b[0mos\u001b[0m\u001b[1;33m.\u001b[0m\u001b[0mpath\u001b[0m\u001b[1;33m.\u001b[0m\u001b[0mexpanduser\u001b[0m\u001b[1;33m(\u001b[0m\u001b[0mpath\u001b[0m\u001b[1;33m)\u001b[0m\u001b[1;33m,\u001b[0m \u001b[0mencoding\u001b[0m\u001b[1;33m=\u001b[0m\u001b[1;34m\"utf8\"\u001b[0m\u001b[1;33m)\u001b[0m \u001b[1;32mas\u001b[0m \u001b[0mf\u001b[0m\u001b[1;33m:\u001b[0m\u001b[1;33m\u001b[0m\u001b[1;33m\u001b[0m\u001b[0m\n\u001b[0m\u001b[0;32m    252\u001b[0m             \u001b[1;32mif\u001b[0m \u001b[0mformat\u001b[0m \u001b[1;33m==\u001b[0m \u001b[1;34m'csv'\u001b[0m\u001b[1;33m:\u001b[0m\u001b[1;33m\u001b[0m\u001b[1;33m\u001b[0m\u001b[0m\n\u001b[0;32m    253\u001b[0m                 \u001b[0mreader\u001b[0m \u001b[1;33m=\u001b[0m \u001b[0municode_csv_reader\u001b[0m\u001b[1;33m(\u001b[0m\u001b[0mf\u001b[0m\u001b[1;33m,\u001b[0m \u001b[1;33m**\u001b[0m\u001b[0mcsv_reader_params\u001b[0m\u001b[1;33m)\u001b[0m\u001b[1;33m\u001b[0m\u001b[1;33m\u001b[0m\u001b[0m\n",
      "\u001b[1;31mFileNotFoundError\u001b[0m: [Errno 2] No such file or directory: '/home/timo/DataSets/KD_arxiv_CS/arxiv_data.csv'"
     ]
    }
   ],
   "source": [
    "data = data = get_datasets(path_to_data, 20000, 20000, 20000)"
   ]
  },
  {
   "cell_type": "code",
   "execution_count": 4,
   "metadata": {},
   "outputs": [],
   "source": [
    "def display_dict(d):\n",
    "    \"\"\"Display a dict nice and pretty.\"\"\"\n",
    "    for key, value in d.items():\n",
    "        print(f\"Citation rank {key}|\\t {value}\")"
   ]
  },
  {
   "cell_type": "code",
   "execution_count": 5,
   "metadata": {},
   "outputs": [],
   "source": [
    "def display_attention(title, attention):\n",
    "    \n",
    "    fig = plt.figure(figsize=(10,10))\n",
    "    ax = fig.add_subplot(111)\n",
    "    \n",
    "    attention = attention.squeeze(1).cpu().detach().numpy()\n",
    "    \n",
    "    cax = ax.matshow(attention, cmap=\"plasma\")\n",
    "   \n",
    "    ax.tick_params(labelsize=15)\n",
    "    xlabels = [\"Context TDNN 1 (f=4)\", \"Context TDNN 2 (f=4)\", \"Context TDNN 3 (f=5)\", \n",
    "               \"Context TDNN 3 (f=6)\", \"Context TDNN 3 (f=7)\",\n",
    "               \"Citing TDNN 1 (f=1)\", \"Citing TDNN 2 (f=2)\",\n",
    "               \"Cited TDNN 1 (f=1)\", \"Cited TDNN 2 (f=2)\"\n",
    "              ]\n",
    "    ax.set_xticklabels([''] + xlabels, \n",
    "                       rotation=90)\n",
    "    # have tokenized title here\n",
    "    ax.set_yticklabels([''] + title)\n",
    "\n",
    "    ax.xaxis.set_major_locator(ticker.MultipleLocator(1))\n",
    "    ax.yaxis.set_major_locator(ticker.MultipleLocator(1))\n",
    "    fig.colorbar(cax)\n",
    "    plt.tight_layout()\n",
    "    fig.savefig(\"Attention_weights.jpg\", DPI=400)"
   ]
  },
  {
   "cell_type": "markdown",
   "metadata": {},
   "source": [
    "# ![stats_icon](assets/Stats_icon.png) Data: Basic statistics\n",
    "* __502353 context - citation pairs__ with full information.  \n",
    "* Split of __train = 0.8, valid = 0.1, test = 0.1__.   \n",
    "* Vocab sizes: __context = title = shared authors = 30k__.  \n",
    "\n",
    "![Context and title length distributions](assets/title_context_distribution.jpg)\n",
    "\n",
    "* Max __context length__: __50__.\n",
    "* Max __title length__: __18__."
   ]
  },
  {
   "cell_type": "markdown",
   "metadata": {},
   "source": [
    "# ![field_icon](assets/Field_icon.png) Data preprocessing with torchtext Fields \n",
    "![Field](assets/Field_viz.JPG)"
   ]
  },
  {
   "cell_type": "code",
   "execution_count": 6,
   "metadata": {},
   "outputs": [],
   "source": [
    "context = \"Neural networks are really cool, especially if they are convolutional.\"\n",
    "authors = \"Chuck Norris, Bruce Lee\""
   ]
  },
  {
   "cell_type": "markdown",
   "metadata": {},
   "source": [
    "## Tokenization and Lemmatization"
   ]
  },
  {
   "cell_type": "code",
   "execution_count": 7,
   "metadata": {},
   "outputs": [],
   "source": [
    "tokenized = data.cntxt.tokenize(context)"
   ]
  },
  {
   "cell_type": "code",
   "execution_count": 8,
   "metadata": {},
   "outputs": [
    {
     "data": {
      "text/plain": [
       "['Neural',\n",
       " 'network',\n",
       " 'be',\n",
       " 'really',\n",
       " 'cool',\n",
       " 'especially',\n",
       " 'if',\n",
       " 'they',\n",
       " 'be',\n",
       " 'convolutional']"
      ]
     },
     "execution_count": 8,
     "metadata": {},
     "output_type": "execute_result"
    }
   ],
   "source": [
    "tokenized"
   ]
  },
  {
   "cell_type": "markdown",
   "metadata": {},
   "source": [
    "## Numericalization"
   ]
  },
  {
   "cell_type": "code",
   "execution_count": 9,
   "metadata": {},
   "outputs": [
    {
     "data": {
      "text/plain": [
       "tensor([[   0,    3,    0,    0, 4628,  773,    0,    0,    0,  411]])"
      ]
     },
     "execution_count": 9,
     "metadata": {},
     "output_type": "execute_result"
    }
   ],
   "source": [
    "data.cntxt.numericalize([tokenized])"
   ]
  },
  {
   "cell_type": "markdown",
   "metadata": {},
   "source": [
    "## Batch processing"
   ]
  },
  {
   "cell_type": "code",
   "execution_count": 10,
   "metadata": {},
   "outputs": [],
   "source": [
    "examples = [example.context for example in data.train.examples[:30]]"
   ]
  },
  {
   "cell_type": "code",
   "execution_count": 11,
   "metadata": {},
   "outputs": [],
   "source": [
    "tensorized = data.cntxt.numericalize(data.cntxt.pad(examples))"
   ]
  },
  {
   "cell_type": "code",
   "execution_count": 12,
   "metadata": {},
   "outputs": [
    {
     "name": "stdout",
     "output_type": "stream",
     "text": [
      "Batch data type: torch.LongTensor\n",
      "Batch shape: torch.Size([30, 52])\n",
      "tensor([[  845,     9,    88,  3533,    45,    34,    56,   620,    49,   279,\n",
      "          1050,     5,   649,  1617,   541,   352,   100,   150,     1,     1,\n",
      "             1,     1,     1,     1,     1,     1,     1,     1,     1,     1,\n",
      "             1,     1,     1,     1,     1,     1,     1,     1,     1,     1,\n",
      "             1,     1,     1,     1,     1,     1,     1,     1,     1,     1,\n",
      "             1,     1],\n",
      "        [  392,   170,    46, 18853,   725,  2502,   201,     0,   578,    44,\n",
      "             0, 15008,   181,    87,   218,  1135,     1,     1,     1,     1,\n",
      "             1,     1,     1,     1,     1,     1,     1,     1,     1,     1,\n",
      "             1,     1,     1,     1,     1,     1,     1,     1,     1,     1,\n",
      "             1,     1,     1,     1,     1,     1,     1,     1,     1,     1,\n",
      "             1,     1],\n",
      "        [ 1749,  1601,   823,  2003,   103,    92,   648,  2003,   388,   117,\n",
      "           151,  1827,  7069,   252,   550,  4069,  1839,   791,    23,    12,\n",
      "             1,     1,     1,     1,     1,     1,     1,     1,     1,     1,\n",
      "             1,     1,     1,     1,     1,     1,     1,     1,     1,     1,\n",
      "             1,     1,     1,     1,     1,     1,     1,     1,     1,     1,\n",
      "             1,     1]])\n"
     ]
    }
   ],
   "source": [
    "print(f\"Batch data type: {tensorized.type()}\")\n",
    "print(f\"Batch shape: {tensorized.shape}\")\n",
    "print(tensorized[:3, :])"
   ]
  },
  {
   "cell_type": "markdown",
   "metadata": {},
   "source": [
    "# ![bucketing_icon](assets/Bucketing_icon.png) Bucketing: What is it and why do we need it?\n",
    "![Bucketing](assets/Bucketing_viz.JPG)"
   ]
  },
  {
   "cell_type": "code",
   "execution_count": 13,
   "metadata": {},
   "outputs": [],
   "source": [
    "train_iterator, valid_iterator, test_iterator = BucketIterator.splits((data.train, data.valid, data.test), \n",
    "                                                                          batch_size = 32,\n",
    "                                                                          sort_within_batch = True,\n",
    "                                                                          sort_key = lambda x : len(x.title_cited))"
   ]
  },
  {
   "cell_type": "code",
   "execution_count": 14,
   "metadata": {},
   "outputs": [],
   "source": [
    "batch = next(iter(train_iterator))"
   ]
  },
  {
   "cell_type": "markdown",
   "metadata": {},
   "source": [
    "## Bucketed batch\n",
    "* Sequences in a batch have similar length.\n",
    "* Drastically reduces computation time.  "
   ]
  },
  {
   "cell_type": "code",
   "execution_count": 15,
   "metadata": {},
   "outputs": [
    {
     "data": {
      "text/plain": [
       "tensor([[    2,  1079,   152,     9,    21,   204,    14,    67,     3],\n",
       "        [    2,   476,   179,   252,   208,   175,   603,   203,     3],\n",
       "        [    2,    47,   447,   600,    16,    23,   417,    71,     3],\n",
       "        [    2,   108,   684,    81, 16373,   246,    84,   114,     3],\n",
       "        [    2,    57,   176,     4,   116,  2816,  1023,  1172,     3]])"
      ]
     },
     "execution_count": 15,
     "metadata": {},
     "output_type": "execute_result"
    }
   ],
   "source": [
    "batch.title_cited.permute(1,0)[:5]"
   ]
  },
  {
   "cell_type": "markdown",
   "metadata": {},
   "source": [
    "# ![demo_icon](assets/Demo_icon.png) Demo"
   ]
  },
  {
   "cell_type": "code",
   "execution_count": 16,
   "metadata": {},
   "outputs": [
    {
     "name": "stderr",
     "output_type": "stream",
     "text": [
      "INFO:ncn.evaluation:INITIALIZING NEURAL CITATION NETWORK WITH AUTHORS = True\n",
      "Running on: cpu\n",
      "Number of model parameters: 16,728,996\n",
      "Encoders: # Filters = 128, Context filter length = [4, 4, 5, 6, 7],  Context filter length = [1, 2]\n",
      "Embeddings: Dimension = 128, Pad index = 1, Context vocab = 20002, Author vocab = 20002, Title vocab = 20004\n",
      "Decoder: # GRU cells = 2, Hidden size = 128\n",
      "Parameters: Dropout = 0.2, Show attention = True\n",
      "-------------------------------------------------\n",
      "INFO:ncn.evaluation:Creating corpus in eval=False mode.\n",
      "INFO:ncn.evaluation:Number of samples in BM25 corpus: 1205646\n"
     ]
    }
   ],
   "source": [
    "evaluator = Evaluator([4,4,5,6,7], [1,2], 128, 128, 2,  path_to_weights, data, evaluate=False, show_attention=True)"
   ]
  },
  {
   "cell_type": "markdown",
   "metadata": {},
   "source": [
    "## Generating Recommendations\n",
    "* Use BM-25 to preselect the 1028 most similar titles.  \n",
    "* Rerank those with the neural citation network.  "
   ]
  },
  {
   "cell_type": "code",
   "execution_count": 17,
   "metadata": {},
   "outputs": [],
   "source": [
    "context = \"Neural networks are really cool, especially if they are convolutional.\"\n",
    "authors = \"Chuck Norris, Bruce Lee\""
   ]
  },
  {
   "cell_type": "code",
   "execution_count": 18,
   "metadata": {},
   "outputs": [],
   "source": [
    "recomms, a = evaluator.recommend(context, authors, 10)"
   ]
  },
  {
   "cell_type": "code",
   "execution_count": 19,
   "metadata": {},
   "outputs": [
    {
     "name": "stdout",
     "output_type": "stream",
     "text": [
      "Citation rank 0|\t Very deep convolutional networks for   large-scale image recognition\n",
      "Citation rank 1|\t Imagenet classification with   deep convolutional neural networks\n",
      "Citation rank 2|\t Fully convolutional networks for   semantic segmentation\n",
      "Citation rank 3|\t Deep convolutional framelets: A general deep learning   for inverse problems\n",
      "Citation rank 4|\t Convolutional neural networks for sentence classification\n",
      "Citation rank 5|\t Caffe: Convolutional architecture for fast   feature embedding\n",
      "Citation rank 6|\t ImageNetclassification with   deep convolutional neural networks\n",
      "Citation rank 7|\t Visualizing and understanding convolutional   networks\n",
      "Citation rank 8|\t U-net: Convolutional networks for   biomedical image segmentation\n",
      "Citation rank 9|\t Return of the devil   in the details: Delving deep into convolutional nets\n"
     ]
    }
   ],
   "source": [
    "display_dict(recomms)"
   ]
  },
  {
   "cell_type": "markdown",
   "metadata": {},
   "source": [
    "# ![attention_icon](assets/Attention_icon.png) But what about attention?"
   ]
  },
  {
   "cell_type": "code",
   "execution_count": 20,
   "metadata": {},
   "outputs": [
    {
     "data": {
      "image/png": "[encoded data removed]",
      "text/plain": [
       "<Figure size 720x720 with 2 Axes>"
      ]
     },
     "metadata": {
      "needs_background": "light"
     },
     "output_type": "display_data"
    }
   ],
   "source": [
    "rec = 1\n",
    "seq = data.cntxt.tokenize(recomms[rec])\n",
    "display_attention(seq, a[1:len(seq)+1, rec, :])"
   ]
  },
  {
   "cell_type": "markdown",
   "metadata": {},
   "source": [
    "# ![result_icon](assets/Result_icon.png) Results   \n",
    "\n",
    "![Recall_at_x](assets/recall.jpg)\n",
    "\n",
    "For reference: Recall for original paper between 0.2 and 0.3. "
   ]
  },
  {
   "cell_type": "markdown",
   "metadata": {},
   "source": [
    "# ![docs_icon](assets/Docs_icon.png) Documentation\n",
    "![Docs](assets/Documentation.png)"
   ]
  }
 ],
 "metadata": {
  "kernelspec": {
   "display_name": "Python 3",
   "language": "python",
   "name": "python3"
  },
  "language_info": {
   "codemirror_mode": {
    "name": "ipython",
    "version": 3
   },
   "file_extension": ".py",
   "mimetype": "text/x-python",
   "name": "python",
   "nbconvert_exporter": "python",
   "pygments_lexer": "ipython3",
   "version": "3.8.5-final"
  }
 },
 "nbformat": 4,
 "nbformat_minor": 4
}