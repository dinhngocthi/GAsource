{
 "cells": [
  {
   "cell_type": "code",
   "execution_count": 1,
   "metadata": {},
   "outputs": [],
   "source": [
    "from ncn.model import *\n",
    "from ncn.training import *"
   ]
  },
  {
   "cell_type": "code",
   "execution_count": 2,
   "metadata": {},
   "outputs": [],
   "source": [
    "random.seed(SEED)\n",
    "torch.manual_seed(SEED)\n",
    "torch.backends.cudnn.deterministic = True"
   ]
  },
  {
   "cell_type": "code",
   "execution_count": 3,
   "metadata": {},
   "outputs": [
    {
     "output_type": "stream",
     "name": "stderr",
     "text": [
      "INFO:ncn.data:Getting fields...\n",
      "INFO:ncn.data:Loading dataset...\n",
      "INFO:ncn.data:Building vocab...\n"
     ]
    }
   ],
   "source": [
    "# set up training\n",
    "#data = get_bucketized_iterators(\"/home/jupyter/tutorials/seminar_kd/arxiv_data.csv\",\n",
    "data = get_bucketized_iterators(\"ncn/arxiv_data_2.csv\",\n",
    "                                batch_size = 64,\n",
    "                                len_context_vocab = 20000,\n",
    "                                len_title_vocab = 20000,\n",
    "                                len_aut_vocab = 20000)\n",
    "PAD_IDX = data.ttl.vocab.stoi['<pad>']\n",
    "cntxt_vocab_len = len(data.cntxt.vocab)\n",
    "aut_vocab_len = len(data.aut.vocab)\n",
    "ttl_vocab_len = len(data.ttl.vocab)"
   ]
  },
  {
   "cell_type": "code",
   "execution_count": 4,
   "metadata": {},
   "outputs": [
    {
     "output_type": "stream",
     "name": "stderr",
     "text": [
      "C:\\Users\\thi.dn\\Anaconda3\\lib\\site-packages\\torch\\nn\\modules\\rnn.py:58: UserWarning: dropout option adds dropout after all but last recurrent layer, so non-zero dropout expects num_layers greater than 1, but got dropout=0.2 and num_layers=1\n  warnings.warn(\"dropout option adds dropout after all but last \"\n"
     ]
    },
    {
     "output_type": "execute_result",
     "data": {
      "text/plain": [
       "NeuralCitationNetwork(\n",
       "  (encoder): NCNEncoder(\n",
       "    (dropout): Dropout(p=0.2, inplace=False)\n",
       "    (context_embedding): Embedding(20002, 128, padding_idx=1)\n",
       "    (context_encoder): TDNNEncoder(\n",
       "      (encoder): ModuleList(\n",
       "        (0): TDNN(\n",
       "          (conv): Conv2d(1, 128, kernel_size=(128, 4), stride=(1, 1), bias=False)\n",
       "        )\n",
       "        (1): TDNN(\n",
       "          (conv): Conv2d(1, 128, kernel_size=(128, 4), stride=(1, 1), bias=False)\n",
       "        )\n",
       "        (2): TDNN(\n",
       "          (conv): Conv2d(1, 128, kernel_size=(128, 5), stride=(1, 1), bias=False)\n",
       "        )\n",
       "        (3): TDNN(\n",
       "          (conv): Conv2d(1, 128, kernel_size=(128, 6), stride=(1, 1), bias=False)\n",
       "        )\n",
       "        (4): TDNN(\n",
       "          (conv): Conv2d(1, 128, kernel_size=(128, 7), stride=(1, 1), bias=False)\n",
       "        )\n",
       "      )\n",
       "      (fc): Linear(in_features=640, out_features=640, bias=True)\n",
       "    )\n",
       "    (title_embedding): Embedding(20004, 128, padding_idx=1)\n",
       "    (title_encoder): TDNNEncoder(\n",
       "      (encoder): ModuleList(\n",
       "        (0): TDNN(\n",
       "          (conv): Conv2d(1, 128, kernel_size=(128, 2), stride=(1, 1), bias=False)\n",
       "        )\n",
       "        (1): TDNN(\n",
       "          (conv): Conv2d(1, 128, kernel_size=(128, 2), stride=(1, 1), bias=False)\n",
       "        )\n",
       "        (2): TDNN(\n",
       "          (conv): Conv2d(1, 128, kernel_size=(128, 3), stride=(1, 1), bias=False)\n",
       "        )\n",
       "      )\n",
       "      (fc): Linear(in_features=384, out_features=384, bias=True)\n",
       "    )\n",
       "    (author_embedding): Embedding(20002, 128, padding_idx=1)\n",
       "    (citing_author_encoder): TDNNEncoder(\n",
       "      (encoder): ModuleList(\n",
       "        (0): TDNN(\n",
       "          (conv): Conv2d(1, 128, kernel_size=(128, 1), stride=(1, 1), bias=False)\n",
       "        )\n",
       "        (1): TDNN(\n",
       "          (conv): Conv2d(1, 128, kernel_size=(128, 2), stride=(1, 1), bias=False)\n",
       "        )\n",
       "      )\n",
       "      (fc): Linear(in_features=256, out_features=256, bias=True)\n",
       "    )\n",
       "    (cited_author_encoder): TDNNEncoder(\n",
       "      (encoder): ModuleList(\n",
       "        (0): TDNN(\n",
       "          (conv): Conv2d(1, 128, kernel_size=(128, 1), stride=(1, 1), bias=False)\n",
       "        )\n",
       "        (1): TDNN(\n",
       "          (conv): Conv2d(1, 128, kernel_size=(128, 2), stride=(1, 1), bias=False)\n",
       "        )\n",
       "      )\n",
       "      (fc): Linear(in_features=256, out_features=256, bias=True)\n",
       "    )\n",
       "  )\n",
       "  (attention): Attention(\n",
       "    (attn): Linear(in_features=256, out_features=128, bias=True)\n",
       "  )\n",
       "  (decoder): Decoder(\n",
       "    (attention): Attention(\n",
       "      (attn): Linear(in_features=256, out_features=128, bias=True)\n",
       "    )\n",
       "    (embedding): Embedding(20004, 128, padding_idx=1)\n",
       "    (rnn): GRU(256, 128, dropout=0.2)\n",
       "    (out): Linear(in_features=384, out_features=20004, bias=True)\n",
       "    (dropout): Dropout(p=0.2, inplace=False)\n",
       "  )\n",
       ")"
      ]
     },
     "metadata": {},
     "execution_count": 4
    }
   ],
   "source": [
    "net = NeuralCitationNetwork(context_filters=[4,4,5,6,7],\n",
    "                            title_filters=[2,2,3],  #Thi added\n",
    "                            author_filters=[1,2],\n",
    "                            context_vocab_size=cntxt_vocab_len,\n",
    "                            title_vocab_size=ttl_vocab_len,\n",
    "                            author_vocab_size=aut_vocab_len,\n",
    "                            pad_idx=PAD_IDX,\n",
    "                            num_filters=128,\n",
    "                            authors=True, \n",
    "                            embed_size=128,\n",
    "                            num_layers=1,\n",
    "                            hidden_size=128,\n",
    "                            dropout_p=0.2,\n",
    "                            show_attention=False)\n",
    "net.to(DEVICE)"
   ]
  },
  {
   "cell_type": "code",
   "execution_count": 5,
   "metadata": {
    "scrolled": false
   },
   "outputs": [
    {
     "output_type": "stream",
     "name": "stderr",
     "text": [
      "INFO:ncn.training:INITIALIZING NEURAL CITATION NETWORK WITH AUTHORS = True\nRunning on: cpu\nNumber of model parameters: 19,452,964\nEncoders: # Filters = 128, Context filter length = [4, 4, 5, 6, 7],  Author filter length = [1, 2]\nEmbeddings: Dimension = 128, Pad index = 1, Context vocab = 20002, Author vocab = 20002, Title vocab = 20004\nDecoder: # GRU cells = 1, Hidden size = 128\nParameters: Dropout = 0.2, Show attention = False\n-------------------------------------------------\nTRAINING SETTINGS\nSeed = 34, # Epochs = 20, Batch size = 64, Initial lr = 0.001\n"
     ]
    },
    {
     "output_type": "display_data",
     "data": {
      "text/plain": "Epochs:   0%|          | 0/20 [00:00<?, ?it/s]",
      "application/vnd.jupyter.widget-view+json": {
       "version_major": 2,
       "version_minor": 0,
       "model_id": "d40f105521c3403985c7ea0c2b406891"
      }
     },
     "metadata": {}
    },
    {
     "output_type": "stream",
     "name": "stdout",
     "text": [
      "Thi epoch =  0\n"
     ]
    },
    {
     "output_type": "display_data",
     "data": {
      "text/plain": "Training batches:   0%|          | 0/1313 [00:00<?, ?it/s]",
      "application/vnd.jupyter.widget-view+json": {
       "version_major": 2,
       "version_minor": 0,
       "model_id": "c95d272d6f1848258831bb96b5a0aed6"
      }
     },
     "metadata": {}
    },
    {
     "output_type": "display_data",
     "data": {
      "text/plain": "Training batches:   0%|          | 0/1313 [00:00<?, ?it/s]",
      "application/vnd.jupyter.widget-view+json": {
       "version_major": 2,
       "version_minor": 0,
       "model_id": "a2e03918f6be42d391d96eef696b265e"
      }
     },
     "metadata": {}
    },
    {
     "output_type": "display_data",
     "data": {
      "text/plain": "Evaluating batches:   0%|          | 0/165 [00:00<?, ?it/s]",
      "application/vnd.jupyter.widget-view+json": {
       "version_major": 2,
       "version_minor": 0,
       "model_id": "be5831db9f434d83a1004fc63efde520"
      }
     },
     "metadata": {}
    },
    {
     "output_type": "stream",
     "name": "stderr",
     "text": [
      "INFO:ncn.training:Epoch: 01 | Time: 28m 43s\n",
      "INFO:ncn.training:\tTrain Loss: 5.820\n",
      "INFO:ncn.training:\t Val. Loss: 5.098\n",
      "Thi epoch =  1\n"
     ]
    },
    {
     "output_type": "display_data",
     "data": {
      "text/plain": "Training batches:   0%|          | 0/1313 [00:00<?, ?it/s]",
      "application/vnd.jupyter.widget-view+json": {
       "version_major": 2,
       "version_minor": 0,
       "model_id": "c67e0dac2fae4be782d497a5f59e52c5"
      }
     },
     "metadata": {}
    },
    {
     "output_type": "display_data",
     "data": {
      "text/plain": "Training batches:   0%|          | 0/1313 [00:00<?, ?it/s]",
      "application/vnd.jupyter.widget-view+json": {
       "version_major": 2,
       "version_minor": 0,
       "model_id": "5673570f503a41099a63d09d245e14d2"
      }
     },
     "metadata": {}
    },
    {
     "output_type": "display_data",
     "data": {
      "text/plain": "Evaluating batches:   0%|          | 0/165 [00:00<?, ?it/s]",
      "application/vnd.jupyter.widget-view+json": {
       "version_major": 2,
       "version_minor": 0,
       "model_id": "d8ded2a4c91e458c8fe0225033314c56"
      }
     },
     "metadata": {}
    },
    {
     "output_type": "stream",
     "name": "stderr",
     "text": [
      "INFO:ncn.training:Epoch: 02 | Time: 25m 59s\n",
      "INFO:ncn.training:\tTrain Loss: 4.764\n",
      "INFO:ncn.training:\t Val. Loss: 4.591\n",
      "Thi epoch =  2\n"
     ]
    },
    {
     "output_type": "display_data",
     "data": {
      "text/plain": "Training batches:   0%|          | 0/1313 [00:00<?, ?it/s]",
      "application/vnd.jupyter.widget-view+json": {
       "version_major": 2,
       "version_minor": 0,
       "model_id": "3dd190eacb2a4f53a1f9f277f4c12b44"
      }
     },
     "metadata": {}
    },
    {
     "output_type": "display_data",
     "data": {
      "text/plain": "Training batches:   0%|          | 0/1313 [00:00<?, ?it/s]",
      "application/vnd.jupyter.widget-view+json": {
       "version_major": 2,
       "version_minor": 0,
       "model_id": "8f2418b557f345439ee9cacd3a4e1279"
      }
     },
     "metadata": {}
    },
    {
     "output_type": "display_data",
     "data": {
      "text/plain": "Evaluating batches:   0%|          | 0/165 [00:00<?, ?it/s]",
      "application/vnd.jupyter.widget-view+json": {
       "version_major": 2,
       "version_minor": 0,
       "model_id": "51a2114c898947b0bfbc1b519270a900"
      }
     },
     "metadata": {}
    },
    {
     "output_type": "stream",
     "name": "stderr",
     "text": [
      "INFO:ncn.training:Epoch: 03 | Time: 26m 0s\n",
      "INFO:ncn.training:\tTrain Loss: 4.290\n",
      "INFO:ncn.training:\t Val. Loss: 4.354\n",
      "Thi epoch =  3\n"
     ]
    },
    {
     "output_type": "display_data",
     "data": {
      "text/plain": "Training batches:   0%|          | 0/1313 [00:00<?, ?it/s]",
      "application/vnd.jupyter.widget-view+json": {
       "version_major": 2,
       "version_minor": 0,
       "model_id": "d007c2f29ffc424ea492f43ef9367f44"
      }
     },
     "metadata": {}
    },
    {
     "output_type": "display_data",
     "data": {
      "text/plain": "Training batches:   0%|          | 0/1313 [00:00<?, ?it/s]",
      "application/vnd.jupyter.widget-view+json": {
       "version_major": 2,
       "version_minor": 0,
       "model_id": "8143ba851af14bb2b75e97251f8e86bf"
      }
     },
     "metadata": {}
    },
    {
     "output_type": "display_data",
     "data": {
      "text/plain": "Evaluating batches:   0%|          | 0/165 [00:00<?, ?it/s]",
      "application/vnd.jupyter.widget-view+json": {
       "version_major": 2,
       "version_minor": 0,
       "model_id": "71a0146ee7ef4e1eaa28d441ff7b9f6f"
      }
     },
     "metadata": {}
    },
    {
     "output_type": "stream",
     "name": "stderr",
     "text": [
      "INFO:ncn.training:Epoch: 04 | Time: 26m 10s\n",
      "INFO:ncn.training:\tTrain Loss: 4.005\n",
      "INFO:ncn.training:\t Val. Loss: 4.209\n",
      "Thi epoch =  4\n"
     ]
    },
    {
     "output_type": "display_data",
     "data": {
      "text/plain": "Training batches:   0%|          | 0/1313 [00:00<?, ?it/s]",
      "application/vnd.jupyter.widget-view+json": {
       "version_major": 2,
       "version_minor": 0,
       "model_id": "f42571e823b04565843490266dfc1382"
      }
     },
     "metadata": {}
    },
    {
     "output_type": "display_data",
     "data": {
      "text/plain": "Training batches:   0%|          | 0/1313 [00:00<?, ?it/s]",
      "application/vnd.jupyter.widget-view+json": {
       "version_major": 2,
       "version_minor": 0,
       "model_id": "d6af19b363f14879830cd138f2be82d6"
      }
     },
     "metadata": {}
    },
    {
     "output_type": "display_data",
     "data": {
      "text/plain": "Evaluating batches:   0%|          | 0/165 [00:00<?, ?it/s]",
      "application/vnd.jupyter.widget-view+json": {
       "version_major": 2,
       "version_minor": 0,
       "model_id": "8dbd5850794844388c67c783a1a43e72"
      }
     },
     "metadata": {}
    },
    {
     "output_type": "stream",
     "name": "stderr",
     "text": [
      "INFO:ncn.training:Epoch: 05 | Time: 26m 6s\n",
      "INFO:ncn.training:\tTrain Loss: 3.812\n",
      "INFO:ncn.training:\t Val. Loss: 4.120\n",
      "Thi epoch =  5\n"
     ]
    },
    {
     "output_type": "display_data",
     "data": {
      "text/plain": "Training batches:   0%|          | 0/1313 [00:00<?, ?it/s]",
      "application/vnd.jupyter.widget-view+json": {
       "version_major": 2,
       "version_minor": 0,
       "model_id": "8869bdd4e0c94c3f9cd33076ab43eed0"
      }
     },
     "metadata": {}
    },
    {
     "output_type": "display_data",
     "data": {
      "text/plain": "Training batches:   0%|          | 0/1313 [00:00<?, ?it/s]",
      "application/vnd.jupyter.widget-view+json": {
       "version_major": 2,
       "version_minor": 0,
       "model_id": "ca25fc79ff6d49b3abfc6a6f898833c2"
      }
     },
     "metadata": {}
    },
    {
     "output_type": "display_data",
     "data": {
      "text/plain": "Evaluating batches:   0%|          | 0/165 [00:00<?, ?it/s]",
      "application/vnd.jupyter.widget-view+json": {
       "version_major": 2,
       "version_minor": 0,
       "model_id": "2d8b190cf7aa462896b255e4a42b958b"
      }
     },
     "metadata": {}
    },
    {
     "output_type": "stream",
     "name": "stderr",
     "text": [
      "INFO:ncn.training:Epoch: 06 | Time: 26m 2s\n",
      "INFO:ncn.training:\tTrain Loss: 3.670\n",
      "INFO:ncn.training:\t Val. Loss: 4.047\n",
      "Thi epoch =  6\n"
     ]
    },
    {
     "output_type": "display_data",
     "data": {
      "text/plain": "Training batches:   0%|          | 0/1313 [00:00<?, ?it/s]",
      "application/vnd.jupyter.widget-view+json": {
       "version_major": 2,
       "version_minor": 0,
       "model_id": "4a2e47bf977a4ceb9fbd8ac70caf5032"
      }
     },
     "metadata": {}
    },
    {
     "output_type": "display_data",
     "data": {
      "text/plain": "Training batches:   0%|          | 0/1313 [00:00<?, ?it/s]",
      "application/vnd.jupyter.widget-view+json": {
       "version_major": 2,
       "version_minor": 0,
       "model_id": "cb509a1eb8914511a2d9c2f2db84faef"
      }
     },
     "metadata": {}
    },
    {
     "output_type": "display_data",
     "data": {
      "text/plain": "Evaluating batches:   0%|          | 0/165 [00:00<?, ?it/s]",
      "application/vnd.jupyter.widget-view+json": {
       "version_major": 2,
       "version_minor": 0,
       "model_id": "c668dbc0cb8f4cec9d2ab0c44e3924e7"
      }
     },
     "metadata": {}
    },
    {
     "output_type": "stream",
     "name": "stderr",
     "text": [
      "INFO:ncn.training:Epoch: 07 | Time: 26m 5s\n",
      "INFO:ncn.training:\tTrain Loss: 3.557\n",
      "INFO:ncn.training:\t Val. Loss: 3.999\n",
      "Thi epoch =  7\n"
     ]
    },
    {
     "output_type": "display_data",
     "data": {
      "text/plain": "Training batches:   0%|          | 0/1313 [00:00<?, ?it/s]",
      "application/vnd.jupyter.widget-view+json": {
       "version_major": 2,
       "version_minor": 0,
       "model_id": "39dcb76688aa4ea0b688d1abe032d26a"
      }
     },
     "metadata": {}
    },
    {
     "output_type": "display_data",
     "data": {
      "text/plain": "Training batches:   0%|          | 0/1313 [00:00<?, ?it/s]",
      "application/vnd.jupyter.widget-view+json": {
       "version_major": 2,
       "version_minor": 0,
       "model_id": "7cfaadecd4c4440b8a786f787bb697aa"
      }
     },
     "metadata": {}
    },
    {
     "output_type": "display_data",
     "data": {
      "text/plain": "Evaluating batches:   0%|          | 0/165 [00:00<?, ?it/s]",
      "application/vnd.jupyter.widget-view+json": {
       "version_major": 2,
       "version_minor": 0,
       "model_id": "c43acd43a2c8463fb7a51660dffce57a"
      }
     },
     "metadata": {}
    },
    {
     "output_type": "stream",
     "name": "stderr",
     "text": [
      "INFO:ncn.training:Epoch: 08 | Time: 26m 3s\n",
      "INFO:ncn.training:\tTrain Loss: 3.464\n",
      "INFO:ncn.training:\t Val. Loss: 3.968\n",
      "Thi epoch =  8\n"
     ]
    },
    {
     "output_type": "display_data",
     "data": {
      "text/plain": "Training batches:   0%|          | 0/1313 [00:00<?, ?it/s]",
      "application/vnd.jupyter.widget-view+json": {
       "version_major": 2,
       "version_minor": 0,
       "model_id": "0c80640c125e4e179be2add26586027a"
      }
     },
     "metadata": {}
    },
    {
     "output_type": "display_data",
     "data": {
      "text/plain": "Training batches:   0%|          | 0/1313 [00:00<?, ?it/s]",
      "application/vnd.jupyter.widget-view+json": {
       "version_major": 2,
       "version_minor": 0,
       "model_id": "a10f9acd11604f188b18911e912b83a4"
      }
     },
     "metadata": {}
    },
    {
     "output_type": "display_data",
     "data": {
      "text/plain": "Evaluating batches:   0%|          | 0/165 [00:00<?, ?it/s]",
      "application/vnd.jupyter.widget-view+json": {
       "version_major": 2,
       "version_minor": 0,
       "model_id": "858e5e720d204750946a12bdd7ba06b4"
      }
     },
     "metadata": {}
    },
    {
     "output_type": "stream",
     "name": "stderr",
     "text": [
      "INFO:ncn.training:Epoch: 09 | Time: 26m 7s\n",
      "INFO:ncn.training:\tTrain Loss: 3.388\n",
      "INFO:ncn.training:\t Val. Loss: 3.939\n",
      "Thi epoch =  9\n"
     ]
    },
    {
     "output_type": "display_data",
     "data": {
      "text/plain": "Training batches:   0%|          | 0/1313 [00:00<?, ?it/s]",
      "application/vnd.jupyter.widget-view+json": {
       "version_major": 2,
       "version_minor": 0,
       "model_id": "4692fa8177d346df86a4ec3553f0cb2d"
      }
     },
     "metadata": {}
    },
    {
     "output_type": "display_data",
     "data": {
      "text/plain": "Training batches:   0%|          | 0/1313 [00:00<?, ?it/s]",
      "application/vnd.jupyter.widget-view+json": {
       "version_major": 2,
       "version_minor": 0,
       "model_id": "96d885f99d6847e397d326d786686ce8"
      }
     },
     "metadata": {}
    },
    {
     "output_type": "display_data",
     "data": {
      "text/plain": "Evaluating batches:   0%|          | 0/165 [00:00<?, ?it/s]",
      "application/vnd.jupyter.widget-view+json": {
       "version_major": 2,
       "version_minor": 0,
       "model_id": "dbad3c9628364a159279dd3895164c28"
      }
     },
     "metadata": {}
    },
    {
     "output_type": "stream",
     "name": "stderr",
     "text": [
      "INFO:ncn.training:Epoch: 10 | Time: 26m 5s\n",
      "INFO:ncn.training:\tTrain Loss: 3.320\n",
      "INFO:ncn.training:\t Val. Loss: 3.911\n",
      "Thi epoch =  10\n"
     ]
    },
    {
     "output_type": "display_data",
     "data": {
      "text/plain": "Training batches:   0%|          | 0/1313 [00:00<?, ?it/s]",
      "application/vnd.jupyter.widget-view+json": {
       "version_major": 2,
       "version_minor": 0,
       "model_id": "fde6fbe4e2704003b7c1270e37085c15"
      }
     },
     "metadata": {}
    },
    {
     "output_type": "display_data",
     "data": {
      "text/plain": "Training batches:   0%|          | 0/1313 [00:00<?, ?it/s]",
      "application/vnd.jupyter.widget-view+json": {
       "version_major": 2,
       "version_minor": 0,
       "model_id": "6516dd7093bd4782891aa6548e533ff9"
      }
     },
     "metadata": {}
    },
    {
     "output_type": "display_data",
     "data": {
      "text/plain": "Evaluating batches:   0%|          | 0/165 [00:00<?, ?it/s]",
      "application/vnd.jupyter.widget-view+json": {
       "version_major": 2,
       "version_minor": 0,
       "model_id": "f38a4194d0bd40f9b94c059016469281"
      }
     },
     "metadata": {}
    },
    {
     "output_type": "stream",
     "name": "stderr",
     "text": [
      "INFO:ncn.training:Epoch: 11 | Time: 26m 4s\n",
      "INFO:ncn.training:\tTrain Loss: 3.261\n",
      "INFO:ncn.training:\t Val. Loss: 3.890\n",
      "Thi epoch =  11\n"
     ]
    },
    {
     "output_type": "display_data",
     "data": {
      "text/plain": "Training batches:   0%|          | 0/1313 [00:00<?, ?it/s]",
      "application/vnd.jupyter.widget-view+json": {
       "version_major": 2,
       "version_minor": 0,
       "model_id": "b584d5541b1947b58269c9168b42fe6e"
      }
     },
     "metadata": {}
    },
    {
     "output_type": "display_data",
     "data": {
      "text/plain": "Training batches:   0%|          | 0/1313 [00:00<?, ?it/s]",
      "application/vnd.jupyter.widget-view+json": {
       "version_major": 2,
       "version_minor": 0,
       "model_id": "0e8d667704fd49ecbca641a1f806c6a5"
      }
     },
     "metadata": {}
    },
    {
     "output_type": "display_data",
     "data": {
      "text/plain": "Evaluating batches:   0%|          | 0/165 [00:00<?, ?it/s]",
      "application/vnd.jupyter.widget-view+json": {
       "version_major": 2,
       "version_minor": 0,
       "model_id": "1fbd7987c28947ccb570936230d99551"
      }
     },
     "metadata": {}
    },
    {
     "output_type": "stream",
     "name": "stderr",
     "text": [
      "INFO:ncn.training:Epoch: 12 | Time: 35m 42s\n",
      "INFO:ncn.training:\tTrain Loss: 3.209\n",
      "INFO:ncn.training:\t Val. Loss: 3.868\n",
      "Thi epoch =  12\n"
     ]
    },
    {
     "output_type": "display_data",
     "data": {
      "text/plain": "Training batches:   0%|          | 0/1313 [00:00<?, ?it/s]",
      "application/vnd.jupyter.widget-view+json": {
       "version_major": 2,
       "version_minor": 0,
       "model_id": "cf8989bed17044bca74072386960ebab"
      }
     },
     "metadata": {}
    },
    {
     "output_type": "display_data",
     "data": {
      "text/plain": "Training batches:   0%|          | 0/1313 [00:00<?, ?it/s]",
      "application/vnd.jupyter.widget-view+json": {
       "version_major": 2,
       "version_minor": 0,
       "model_id": "679aeeb460bb4e3e824f78412d2a45bc"
      }
     },
     "metadata": {}
    },
    {
     "output_type": "display_data",
     "data": {
      "text/plain": "Evaluating batches:   0%|          | 0/165 [00:00<?, ?it/s]",
      "application/vnd.jupyter.widget-view+json": {
       "version_major": 2,
       "version_minor": 0,
       "model_id": "be2fd2ad1ba24dfbace33a4fe3fde936"
      }
     },
     "metadata": {}
    },
    {
     "output_type": "stream",
     "name": "stderr",
     "text": [
      "INFO:ncn.training:Epoch: 13 | Time: 31m 35s\n",
      "INFO:ncn.training:\tTrain Loss: 3.163\n",
      "INFO:ncn.training:\t Val. Loss: 3.848\n",
      "Thi epoch =  13\n"
     ]
    },
    {
     "output_type": "display_data",
     "data": {
      "text/plain": "Training batches:   0%|          | 0/1313 [00:00<?, ?it/s]",
      "application/vnd.jupyter.widget-view+json": {
       "version_major": 2,
       "version_minor": 0,
       "model_id": "3fd61f3e17cc40dfb029ee1a53a53c3e"
      }
     },
     "metadata": {}
    },
    {
     "output_type": "display_data",
     "data": {
      "text/plain": "Training batches:   0%|          | 0/1313 [00:00<?, ?it/s]",
      "application/vnd.jupyter.widget-view+json": {
       "version_major": 2,
       "version_minor": 0,
       "model_id": "f618f0c380ca436dab40a2931c9d12b2"
      }
     },
     "metadata": {}
    },
    {
     "output_type": "display_data",
     "data": {
      "text/plain": "Evaluating batches:   0%|          | 0/165 [00:00<?, ?it/s]",
      "application/vnd.jupyter.widget-view+json": {
       "version_major": 2,
       "version_minor": 0,
       "model_id": "cec987f86a2f4936a3c54cee8f6acb35"
      }
     },
     "metadata": {}
    },
    {
     "output_type": "stream",
     "name": "stderr",
     "text": [
      "INFO:ncn.training:Epoch: 14 | Time: 26m 20s\n",
      "INFO:ncn.training:\tTrain Loss: 3.118\n",
      "INFO:ncn.training:\t Val. Loss: 3.838\n",
      "Thi epoch =  14\n"
     ]
    },
    {
     "output_type": "display_data",
     "data": {
      "text/plain": "Training batches:   0%|          | 0/1313 [00:00<?, ?it/s]",
      "application/vnd.jupyter.widget-view+json": {
       "version_major": 2,
       "version_minor": 0,
       "model_id": "1d2aa74489404819ad8bfa850e76f7fb"
      }
     },
     "metadata": {}
    },
    {
     "output_type": "display_data",
     "data": {
      "text/plain": "Training batches:   0%|          | 0/1313 [00:00<?, ?it/s]",
      "application/vnd.jupyter.widget-view+json": {
       "version_major": 2,
       "version_minor": 0,
       "model_id": "569f951eaa0e4be29b6934de64dda167"
      }
     },
     "metadata": {}
    },
    {
     "output_type": "display_data",
     "data": {
      "text/plain": "Evaluating batches:   0%|          | 0/165 [00:00<?, ?it/s]",
      "application/vnd.jupyter.widget-view+json": {
       "version_major": 2,
       "version_minor": 0,
       "model_id": "7aaa53e0d0e849dc9cb46075b0b8f6ec"
      }
     },
     "metadata": {}
    },
    {
     "output_type": "stream",
     "name": "stderr",
     "text": [
      "INFO:ncn.training:Epoch: 15 | Time: 26m 18s\n",
      "INFO:ncn.training:\tTrain Loss: 3.080\n",
      "INFO:ncn.training:\t Val. Loss: 3.825\n",
      "Thi epoch =  15\n"
     ]
    },
    {
     "output_type": "display_data",
     "data": {
      "text/plain": "Training batches:   0%|          | 0/1313 [00:00<?, ?it/s]",
      "application/vnd.jupyter.widget-view+json": {
       "version_major": 2,
       "version_minor": 0,
       "model_id": "3ac9b1ed5fca4f6c91b7ab82feef3249"
      }
     },
     "metadata": {}
    },
    {
     "output_type": "display_data",
     "data": {
      "text/plain": "Training batches:   0%|          | 0/1313 [00:00<?, ?it/s]",
      "application/vnd.jupyter.widget-view+json": {
       "version_major": 2,
       "version_minor": 0,
       "model_id": "b329390b388c4d9a92b32c2221fa583b"
      }
     },
     "metadata": {}
    },
    {
     "output_type": "display_data",
     "data": {
      "text/plain": "Evaluating batches:   0%|          | 0/165 [00:00<?, ?it/s]",
      "application/vnd.jupyter.widget-view+json": {
       "version_major": 2,
       "version_minor": 0,
       "model_id": "351c5baf3014473bbf2a9b08d394a8f6"
      }
     },
     "metadata": {}
    },
    {
     "output_type": "stream",
     "name": "stderr",
     "text": [
      "INFO:ncn.training:Epoch: 16 | Time: 26m 22s\n",
      "INFO:ncn.training:\tTrain Loss: 3.044\n",
      "INFO:ncn.training:\t Val. Loss: 3.820\n",
      "Thi epoch =  16\n"
     ]
    },
    {
     "output_type": "display_data",
     "data": {
      "text/plain": "Training batches:   0%|          | 0/1313 [00:00<?, ?it/s]",
      "application/vnd.jupyter.widget-view+json": {
       "version_major": 2,
       "version_minor": 0,
       "model_id": "2e4e752817964f7c9e321e26a8bb92c7"
      }
     },
     "metadata": {}
    },
    {
     "output_type": "display_data",
     "data": {
      "text/plain": "Training batches:   0%|          | 0/1313 [00:00<?, ?it/s]",
      "application/vnd.jupyter.widget-view+json": {
       "version_major": 2,
       "version_minor": 0,
       "model_id": "db70bd0f980c41efa44697621c3e603f"
      }
     },
     "metadata": {}
    },
    {
     "output_type": "display_data",
     "data": {
      "text/plain": "Evaluating batches:   0%|          | 0/165 [00:00<?, ?it/s]",
      "application/vnd.jupyter.widget-view+json": {
       "version_major": 2,
       "version_minor": 0,
       "model_id": "7cf851e0eb434054bd1f33afdf161996"
      }
     },
     "metadata": {}
    },
    {
     "output_type": "stream",
     "name": "stderr",
     "text": [
      "INFO:ncn.training:Epoch: 17 | Time: 26m 21s\n",
      "INFO:ncn.training:\tTrain Loss: 3.012\n",
      "INFO:ncn.training:\t Val. Loss: 3.796\n",
      "Thi epoch =  17\n"
     ]
    },
    {
     "output_type": "display_data",
     "data": {
      "text/plain": "Training batches:   0%|          | 0/1313 [00:00<?, ?it/s]",
      "application/vnd.jupyter.widget-view+json": {
       "version_major": 2,
       "version_minor": 0,
       "model_id": "fafe26f340af48719458868f9212c4ab"
      }
     },
     "metadata": {}
    },
    {
     "output_type": "display_data",
     "data": {
      "text/plain": "Training batches:   0%|          | 0/1313 [00:00<?, ?it/s]",
      "application/vnd.jupyter.widget-view+json": {
       "version_major": 2,
       "version_minor": 0,
       "model_id": "b8d2bb897e2d47df94876d0212e7d690"
      }
     },
     "metadata": {}
    },
    {
     "output_type": "display_data",
     "data": {
      "text/plain": "Evaluating batches:   0%|          | 0/165 [00:00<?, ?it/s]",
      "application/vnd.jupyter.widget-view+json": {
       "version_major": 2,
       "version_minor": 0,
       "model_id": "077646ef392846ab9c6e9aeb39c5ad28"
      }
     },
     "metadata": {}
    },
    {
     "output_type": "stream",
     "name": "stderr",
     "text": [
      "INFO:ncn.training:Epoch: 18 | Time: 26m 40s\n",
      "INFO:ncn.training:\tTrain Loss: 2.981\n",
      "INFO:ncn.training:\t Val. Loss: 3.793\n",
      "Thi epoch =  18\n"
     ]
    },
    {
     "output_type": "display_data",
     "data": {
      "text/plain": "Training batches:   0%|          | 0/1313 [00:00<?, ?it/s]",
      "application/vnd.jupyter.widget-view+json": {
       "version_major": 2,
       "version_minor": 0,
       "model_id": "569ccff93ba24a60adfe9c1d6a9db329"
      }
     },
     "metadata": {}
    },
    {
     "output_type": "display_data",
     "data": {
      "text/plain": "Training batches:   0%|          | 0/1313 [00:00<?, ?it/s]",
      "application/vnd.jupyter.widget-view+json": {
       "version_major": 2,
       "version_minor": 0,
       "model_id": "bf421b3a11cb4e168ad190e1b851fa69"
      }
     },
     "metadata": {}
    },
    {
     "output_type": "display_data",
     "data": {
      "text/plain": "Evaluating batches:   0%|          | 0/165 [00:00<?, ?it/s]",
      "application/vnd.jupyter.widget-view+json": {
       "version_major": 2,
       "version_minor": 0,
       "model_id": "200a00ad736a49228730221e6ee390a2"
      }
     },
     "metadata": {}
    },
    {
     "output_type": "stream",
     "name": "stderr",
     "text": [
      "INFO:ncn.training:Epoch: 19 | Time: 26m 25s\n",
      "INFO:ncn.training:\tTrain Loss: 2.950\n",
      "INFO:ncn.training:\t Val. Loss: 3.795\n",
      "Thi epoch =  19\n"
     ]
    },
    {
     "output_type": "display_data",
     "data": {
      "text/plain": "Training batches:   0%|          | 0/1313 [00:00<?, ?it/s]",
      "application/vnd.jupyter.widget-view+json": {
       "version_major": 2,
       "version_minor": 0,
       "model_id": "1f45fc3e8b39492784c8463e191bdf5f"
      }
     },
     "metadata": {}
    },
    {
     "output_type": "display_data",
     "data": {
      "text/plain": "Training batches:   0%|          | 0/1313 [00:00<?, ?it/s]",
      "application/vnd.jupyter.widget-view+json": {
       "version_major": 2,
       "version_minor": 0,
       "model_id": "a45167f5f87c4c969c5d2b0078ecf4c3"
      }
     },
     "metadata": {}
    },
    {
     "output_type": "display_data",
     "data": {
      "text/plain": "Evaluating batches:   0%|          | 0/165 [00:00<?, ?it/s]",
      "application/vnd.jupyter.widget-view+json": {
       "version_major": 2,
       "version_minor": 0,
       "model_id": "b96da69f9cd947ae9a7b46620a730317"
      }
     },
     "metadata": {}
    },
    {
     "output_type": "stream",
     "name": "stderr",
     "text": [
      "INFO:ncn.training:Epoch: 20 | Time: 26m 24s\n",
      "INFO:ncn.training:\tTrain Loss: 2.924\n",
      "INFO:ncn.training:\t Val. Loss: 3.780\n"
     ]
    }
   ],
   "source": [
    "train_losses, valid_losses = train_model(model = net, \n",
    "                                         train_iterator = data.train_iter, \n",
    "                                         valid_iterator = data.valid_iter,\n",
    "                                         lr = 0.001,\n",
    "                                         pad = PAD_IDX,\n",
    "                                         model_name = \"embed_128_hid_256_1_GRU\")"
   ]
  },
  {
   "cell_type": "code",
   "execution_count": null,
   "metadata": {},
   "outputs": [],
   "source": []
  }
 ],
 "metadata": {
  "kernelspec": {
   "name": "python385jvsc74a57bd01d4d9795386835aea05f77782bbeca57846c063341b57123f9ce2672b3545c18",
   "display_name": "Python 3.8.5 64-bit ('thi.dn': virtualenv)"
  },
  "language_info": {
   "codemirror_mode": {
    "name": "ipython",
    "version": 3
   },
   "file_extension": ".py",
   "mimetype": "text/x-python",
   "name": "python",
   "nbconvert_exporter": "python",
   "pygments_lexer": "ipython3",
   "version": "3.8.5"
  }
 },
 "nbformat": 4,
 "nbformat_minor": 4
}